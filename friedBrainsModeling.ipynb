{
  "cells": [
    {
      "cell_type": "markdown",
      "metadata": {
        "id": "q4cOTwsv_amw"
      },
      "source": [
        "imports"
      ]
    },
    {
      "cell_type": "code",
      "execution_count": 2,
      "metadata": {
        "id": "jRk530g4_Jd3"
      },
      "outputs": [],
      "source": [
        "from sklearn.datasets import make_classification, make_regression\n",
        "import pandas as pd\n",
        "import torch\n",
        "import torch.nn as nn\n",
        "import numpy as np\n",
        "import matplotlib.pyplot as plt\n"
      ]
    },
    {
      "cell_type": "markdown",
      "metadata": {
        "id": "sWCci3J1_i41"
      },
      "source": [
        "data simulation"
      ]
    },
    {
      "cell_type": "code",
      "execution_count": 3,
      "metadata": {
        "colab": {
          "base_uri": "https://localhost:8080/"
        },
        "id": "e_OEWzk8_lOp",
        "outputId": "5dd510f8-f0be-4f7d-bcaa-557ed21d3a46"
      },
      "outputs": [
        {
          "name": "stdout",
          "output_type": "stream",
          "text": [
            "   Reaction Time  Accuracy  Literally Anything Else\n",
            "0      -0.150067 -0.425658                 0.434978\n",
            "1       1.597779 -1.070777                 0.256357\n",
            "2       2.089832  2.160973                -2.375608\n",
            "3      -1.224791 -1.329641                 0.918254\n",
            "4      -0.480642  0.417487                -0.725835\n",
            "     Class\n",
            "0        1\n",
            "1        0\n",
            "2        1\n",
            "3        0\n",
            "4        1\n",
            "..     ...\n",
            "995      0\n",
            "996      0\n",
            "997      0\n",
            "998      0\n",
            "999      0\n",
            "\n",
            "[1000 rows x 1 columns]\n"
          ]
        }
      ],
      "source": [
        "#for sober/intoxicated classifier\n",
        "\n",
        "features, output = make_classification(n_samples = 1000,\n",
        "                                       n_features = 3,\n",
        "                                       n_informative= 3,\n",
        "                                       n_redundant=0,\n",
        "                                       n_classes = 2,\n",
        "                                       weights = [0.75, 0.25])\n",
        "\n",
        "#weights are for class generation. Roughly expect to play at baseline 90% of the time and deviated the other 10%\n",
        "\n",
        "print(pd.DataFrame(features, columns=['Reaction Time', 'Accuracy', 'Literally Anything Else']).head())\n",
        "print(pd.DataFrame(output, columns=['Class']))\n",
        "\n"
      ]
    },
    {
      "cell_type": "code",
      "execution_count": 4,
      "metadata": {
        "id": "uO5xqXDXza5d"
      },
      "outputs": [],
      "source": [
        "#mlp\n",
        "\n",
        "class MLP(nn.Module) :\n",
        "    def __init__(self):\n",
        "        super().__init__()\n",
        "        self.l1 = nn.Linear(3, 9, bias=True)\n",
        "        self.h1 = nn.Linear(9, 3, bias=True)\n",
        "        self.h2 = nn.Linear(3, 2, bias=True)\n",
        "\n",
        "    def forward(self, x):\n",
        "        x = torch.sigmoid(self.l1(x))\n",
        "        x = torch.sigmoid(self.h1(x))\n",
        "        x = torch.sigmoid(self.h2(x))\n",
        "        return x"
      ]
    },
    {
      "cell_type": "code",
      "execution_count": 7,
      "metadata": {
        "colab": {
          "base_uri": "https://localhost:8080/"
        },
        "id": "wHTO359y0yq_",
        "outputId": "95cf82b5-ab49-4fbf-a091-a745ff38ab2d"
      },
      "outputs": [
        {
          "ename": "ModuleNotFoundError",
          "evalue": "No module named 'skorch'",
          "output_type": "error",
          "traceback": [
            "\u001b[1;31m---------------------------------------------------------------------------\u001b[0m",
            "\u001b[1;31mModuleNotFoundError\u001b[0m                       Traceback (most recent call last)",
            "\u001b[1;32m<ipython-input-7-47db61607b28>\u001b[0m in \u001b[0;36m<module>\u001b[1;34m\u001b[0m\n\u001b[0;32m      1\u001b[0m \u001b[1;31m#!pip install skorch\u001b[0m\u001b[1;33m\u001b[0m\u001b[1;33m\u001b[0m\u001b[1;33m\u001b[0m\u001b[0m\n\u001b[1;32m----> 2\u001b[1;33m \u001b[1;32mfrom\u001b[0m \u001b[0mskorch\u001b[0m \u001b[1;32mimport\u001b[0m \u001b[0mNeuralNetClassifier\u001b[0m\u001b[1;33m\u001b[0m\u001b[1;33m\u001b[0m\u001b[0m\n\u001b[0m\u001b[0;32m      3\u001b[0m \u001b[1;33m\u001b[0m\u001b[0m\n\u001b[0;32m      4\u001b[0m \u001b[1;33m\u001b[0m\u001b[0m\n\u001b[0;32m      5\u001b[0m \u001b[1;33m\u001b[0m\u001b[0m\n",
            "\u001b[1;31mModuleNotFoundError\u001b[0m: No module named 'skorch'"
          ]
        }
      ],
      "source": [
        "#!pip install skorch\n",
        "from skorch import NeuralNetClassifier\n",
        "\n",
        "features = features.astype(np.float32)\n",
        "output = output.astype(np.int64)\n",
        "\n",
        "trainFraction = .8\n",
        "sample = np.random.uniform(size = 1000) < trainFraction\n",
        "xtrain = features[sample]\n",
        "ytrain = output[sample]\n",
        "xtest = features[~sample]\n",
        "ytest = output[~sample]\n",
        "\n",
        "#ytrain = torch.tensor(ytrain).float()\n",
        "#ytest = torch.tensor(ytest).float()\n",
        "\n",
        "xtorch = torch.from_numpy(xtrain).float()\n",
        "ytorch = torch.from_numpy(ytrain).float().unsqueeze(1)\n",
        "\n",
        "learning_rate = 1.25\n",
        "model = MLP()\n",
        "\n",
        "def init_weights(m):\n",
        "  if isinstance(m, nn.Linear):\n",
        "    torch.nn.init.xavier_uniform(m.weight)\n",
        "    m.bias.data.fill_(0.01)\n",
        "\n",
        "model.apply(init_weights)\n",
        "\n",
        "net = NeuralNetClassifier(model, max_epochs = 100, lr = learning_rate, iterator_train__shuffle = True)\n",
        "net.fit(xtrain, ytrain)\n",
        "\n",
        "preds = net.predict(xtest)\n",
        "acc = 0\n",
        "tot = 0\n",
        "for i in range(len(preds)) :\n",
        "  if preds[i] == ytest[i] :\n",
        "    acc += 1\n",
        "    tot += 1\n",
        "  else :\n",
        "    tot += 1\n",
        "print(\"MLP Test Accuracy:\", acc/tot)\n"
      ]
    },
    {
      "cell_type": "code",
      "execution_count": 93,
      "metadata": {
        "colab": {
          "base_uri": "https://localhost:8080/"
        },
        "id": "8wWzs_KHirpy",
        "outputId": "94459fcf-02a0-42f8-eff3-082a2d934587"
      },
      "outputs": [
        {
          "name": "stdout",
          "output_type": "stream",
          "text": [
            "Logistic Regression Test Accuracy: 0.775609756097561\n"
          ]
        }
      ],
      "source": [
        "from sklearn.linear_model import LogisticRegression\n",
        "logReg = LogisticRegression()\n",
        "\n",
        "logReg.fit(xtrain, ytrain)\n",
        "print(\"Logistic Regression Test Accuracy:\", logReg.score(xtest, ytest))"
      ]
    }
  ],
  "metadata": {
    "colab": {
      "name": "friedBrainsModeling.ipynb",
      "provenance": []
    },
    "interpreter": {
      "hash": "f9e91a40b407a4a207f08d41ebcb8999b86edf0f0b968ee338e38ec87d4e195b"
    },
    "kernelspec": {
      "display_name": "Python 3.8.5 ('base')",
      "language": "python",
      "name": "python3"
    },
    "language_info": {
      "codemirror_mode": {
        "name": "ipython",
        "version": 3
      },
      "file_extension": ".py",
      "mimetype": "text/x-python",
      "name": "python",
      "nbconvert_exporter": "python",
      "pygments_lexer": "ipython3",
      "version": "3.8.5"
    }
  },
  "nbformat": 4,
  "nbformat_minor": 0
}
